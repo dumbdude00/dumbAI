{
 "cells": [
  {
   "cell_type": "markdown",
   "id": "e8d84e9d-7035-456a-ba90-53e6eb50306d",
   "metadata": {},
   "source": [
    "## This nb borrowed lines from fastai, OpenAI & ChatGPT"
   ]
  },
  {
   "cell_type": "markdown",
   "id": "92d9d181-7563-43f0-826c-137887ee4726",
   "metadata": {},
   "source": [
    "Aim is to verify whether Jeremy's transformi() is identical to what we have"
   ]
  },
  {
   "cell_type": "code",
   "execution_count": 1,
   "id": "ff34ba2e-329b-417e-a8e4-c32077a93aaf",
   "metadata": {},
   "outputs": [],
   "source": [
    "import torch\n",
    "from transformers import CLIPProcessor, CLIPModel"
   ]
  },
  {
   "cell_type": "code",
   "execution_count": 2,
   "id": "34d8eba6-0cb1-4b2b-a28c-e80424012298",
   "metadata": {},
   "outputs": [],
   "source": [
    "import torchvision.transforms.functional as TF,torch.nn.functional as F\n",
    "from miniai.imports import *\n",
    "from miniai.datasets import *\n",
    "from datasets import load_dataset,load_dataset_builder"
   ]
  },
  {
   "cell_type": "code",
   "execution_count": 3,
   "id": "e6b224b5-946e-4a51-91de-6ae5b786349e",
   "metadata": {},
   "outputs": [],
   "source": [
    "from huggingface_hub import hf_hub_download\n",
    "import json "
   ]
  },
  {
   "cell_type": "code",
   "execution_count": 4,
   "id": "d59c0c18-47a2-478b-b15c-77eda169fd08",
   "metadata": {},
   "outputs": [
    {
     "name": "stdout",
     "output_type": "stream",
     "text": [
      "# of GPUs available =  1\n"
     ]
    }
   ],
   "source": [
    "class GPUCUDAMissing(BaseException):\n",
    "    pass\n",
    "    \n",
    "try:\n",
    "    if torch.cuda.is_available():\n",
    "        print('# of GPUs available = ', torch.cuda.device_count())\n",
    "    else:\n",
    "        raise GPUCUDAMissing\n",
    "except GPUCUDAMissing:\n",
    "    print(\"ERROR: GPU is missing\")"
   ]
  },
  {
   "cell_type": "markdown",
   "id": "e0fdc6c4-776d-4259-ab47-5a7009bec5dc",
   "metadata": {},
   "source": [
    "### Jeremy's version"
   ]
  },
  {
   "cell_type": "code",
   "execution_count": 5,
   "id": "924e3c81-8a50-4cf3-a85e-9d1f80e59f1d",
   "metadata": {},
   "outputs": [],
   "source": [
    "import torch\n",
    "torch.manual_seed(0)\n",
    "\n",
    "import random\n",
    "random.seed(0)"
   ]
  },
  {
   "cell_type": "code",
   "execution_count": 6,
   "id": "5a5021c4-9df1-4793-8e55-7151982ec4fa",
   "metadata": {},
   "outputs": [],
   "source": [
    "xl,yl = 'image','label'\n",
    "name = \"zh-plus/tiny-imagenet\"\n",
    "dsd = load_dataset(name)"
   ]
  },
  {
   "cell_type": "code",
   "execution_count": 7,
   "id": "49283a91-03fc-47a1-ad4d-156d6df8ddb5",
   "metadata": {},
   "outputs": [],
   "source": [
    "@inplace\n",
    "def transformi(b): b[xl] = [(torch.ones([3,1,1])*(TF.to_tensor(o)-0.0)) for o in b[xl]]\n",
    "\n",
    "bs = 1024\n",
    "tds = dsd.with_transform(transformi)\n",
    "dls = DataLoaders.from_dd(tds, bs, num_workers=7)"
   ]
  },
  {
   "cell_type": "code",
   "execution_count": 8,
   "id": "13eeddce-48b5-491d-adc7-31da319fe9f5",
   "metadata": {},
   "outputs": [],
   "source": [
    "dt = dls.train\n",
    "xb,yb = next(iter(dt))"
   ]
  },
  {
   "cell_type": "code",
   "execution_count": 9,
   "id": "5ab8b448-7ba2-465a-87fe-b4330165dde2",
   "metadata": {},
   "outputs": [],
   "source": [
    "#| export\n",
    "def abar(t): return (t*math.pi/2).cos()**2\n",
    "def inv_abar(x): return x.sqrt().acos()*2/math.pi\n",
    "\n",
    "def noisify(x0):\n",
    "    device = x0.device\n",
    "    n = len(x0)\n",
    "    t = torch.rand(n,).to(x0).clamp(0,0.999)\n",
    "    ε = torch.randn(x0.shape, device=device)\n",
    "    abar_t = abar(t).reshape(-1, 1, 1, 1).to(device)\n",
    "    xt = abar_t.sqrt()*x0 + (1-abar_t).sqrt()*ε\n",
    "    return (xt, t.to(device)), ε\n",
    "\n",
    "def collate_ddpm(b): return noisify(default_collate(b)[xl])"
   ]
  },
  {
   "cell_type": "markdown",
   "id": "280b6b3f-f5b1-4389-8a9d-fd9aeb8ff417",
   "metadata": {},
   "source": [
    "Info: In order to fix some CUDA multiprocessing issue which I don't understand. Please set num_workers=0 as shown in the cell below. Source: https://github.com/pytorch/pytorch/issues/40403#issuecomment-731782611"
   ]
  },
  {
   "cell_type": "code",
   "execution_count": 10,
   "id": "de12b74b-6dbb-480a-b6b1-afbafe50902d",
   "metadata": {},
   "outputs": [],
   "source": [
    "def dl_ddpm(ds): return DataLoader(ds, batch_size=bs, collate_fn=collate_ddpm, num_workers=0)"
   ]
  },
  {
   "cell_type": "code",
   "execution_count": 11,
   "id": "061fa0e2-e9ab-4ae8-bc12-12482cc4cf8a",
   "metadata": {},
   "outputs": [],
   "source": [
    "def collate_ddpm(b):\n",
    "    b = default_collate(b)\n",
    "    (xt,t),eps = noisify(b[xl])\n",
    "    return (xt,t),eps"
   ]
  },
  {
   "cell_type": "code",
   "execution_count": 12,
   "id": "f123fa42-b7f0-4952-bff8-4bc525e81eda",
   "metadata": {},
   "outputs": [],
   "source": [
    "@inplace\n",
    "def transformi(b): b[xl] = [F.pad(TF.to_tensor(o), (2,2,2,2))-0.5 for o in b[xl]]"
   ]
  },
  {
   "cell_type": "code",
   "execution_count": 13,
   "id": "09d8b0ca-145c-46d5-b548-37c29a162080",
   "metadata": {},
   "outputs": [],
   "source": [
    "tds = dsd.with_transform(transformi)\n",
    "dls = DataLoaders(dl_ddpm(tds['train']), dl_ddpm(tds['valid']))\n",
    "\n",
    "dl = dls.train"
   ]
  },
  {
   "cell_type": "code",
   "execution_count": 14,
   "id": "52f5963e-b6a6-4f4f-99cd-64712ae1f835",
   "metadata": {},
   "outputs": [
    {
     "name": "stdout",
     "output_type": "stream",
     "text": [
      "CPU times: user 650 ms, sys: 314 ms, total: 965 ms\n",
      "Wall time: 650 ms\n"
     ]
    }
   ],
   "source": [
    "%%time\n",
    "(xt,t),eps = b = next(iter(dl))"
   ]
  },
  {
   "cell_type": "code",
   "execution_count": 15,
   "id": "b5397c9b-67b8-4b51-aab5-450816ae6fec",
   "metadata": {},
   "outputs": [],
   "source": [
    "xt_ori = xt"
   ]
  },
  {
   "cell_type": "markdown",
   "id": "dd704cac-660d-49cd-9d50-e8f6f89197fd",
   "metadata": {},
   "source": [
    "### Our version"
   ]
  },
  {
   "cell_type": "code",
   "execution_count": 16,
   "id": "ac760fd7-022a-4b96-923e-a3fe542fa5b9",
   "metadata": {},
   "outputs": [],
   "source": [
    "import torch\n",
    "torch.manual_seed(0)\n",
    "\n",
    "import random\n",
    "random.seed(0)"
   ]
  },
  {
   "cell_type": "code",
   "execution_count": 17,
   "id": "e8b5a704-5fd0-414f-872c-f0143307c0d0",
   "metadata": {},
   "outputs": [],
   "source": [
    "#| export\n",
    "def abar(t): return (t*math.pi/2).cos()**2\n",
    "def inv_abar(x): return x.sqrt().acos()*2/math.pi\n",
    "\n",
    "def noisify(x0):\n",
    "    device = x0.device\n",
    "    n = len(x0)\n",
    "    t = torch.rand(n,).to(x0).clamp(0,0.999)\n",
    "    ε = torch.randn(x0.shape, device=device)\n",
    "    abar_t = abar(t).reshape(-1, 1, 1, 1).to(device)\n",
    "    xt = abar_t.sqrt()*x0 + (1-abar_t).sqrt()*ε\n",
    "    return (xt, t.to(device)), ε\n",
    "\n",
    "def collate_ddpm(b): return noisify(default_collate(b)[xl])"
   ]
  },
  {
   "cell_type": "markdown",
   "id": "6981aff3-7eee-4a79-bb91-5b491998ea8b",
   "metadata": {},
   "source": [
    "Info: In order to fix some CUDA multiprocessing issue which I don't understand. Please set num_workers=0 as shown in the cell below. Source: https://github.com/pytorch/pytorch/issues/40403#issuecomment-731782611"
   ]
  },
  {
   "cell_type": "code",
   "execution_count": 18,
   "id": "e31c80df-ce8c-47c8-ad65-988e7b074430",
   "metadata": {},
   "outputs": [],
   "source": [
    "def dl_ddpm(ds): return DataLoader(ds, batch_size=bs, collate_fn=collate_ddpm, num_workers=0)"
   ]
  },
  {
   "cell_type": "markdown",
   "id": "2df62243-35ae-49c3-889c-703251d23b6d",
   "metadata": {},
   "source": [
    "TODO: Double check if the transformi shown below was implemented correctly within collate_ddpm()\n",
    "\n",
    "def transformi(b): b[xl] = [F.pad( (torch.ones([3,1,1])*TF.to_tensor(o))  , (2,2,2,2))-0.5 for o in b[xl]]"
   ]
  },
  {
   "cell_type": "code",
   "execution_count": 19,
   "id": "53153150-4670-4797-ae8b-8efdf7cfc723",
   "metadata": {},
   "outputs": [],
   "source": [
    "def collate_ddpm(b):\n",
    "    b = default_collate(b)\n",
    "    \n",
    "    # ok, let's do the padding and shifting the range from (0,1) to (-0.5,0.5) for SD\n",
    "    b_padded_n_shifted = F.pad(b[xl], (2,2,2,2))-0.5\n",
    "    (xt,t),eps = noisify(b_padded_n_shifted)\n",
    "    \n",
    "    return (xt,t),eps"
   ]
  },
  {
   "cell_type": "code",
   "execution_count": 20,
   "id": "98c18232-8c90-486f-a1bb-5cad881dd68e",
   "metadata": {},
   "outputs": [],
   "source": [
    "@inplace\n",
    "def transformi(b): b[xl] = [ (torch.ones([3,1,1])*TF.to_tensor(o)) for o in b[xl]]"
   ]
  },
  {
   "cell_type": "code",
   "execution_count": 21,
   "id": "a0f8eda8-dd11-4b97-a031-0e9e96cba045",
   "metadata": {},
   "outputs": [],
   "source": [
    "tds = dsd.with_transform(transformi)\n",
    "dls = DataLoaders(dl_ddpm(tds['train']), dl_ddpm(tds['valid']))\n",
    "\n",
    "dl = dls.train"
   ]
  },
  {
   "cell_type": "code",
   "execution_count": 22,
   "id": "cc422cb4-24cf-4149-b2b6-c7b3902f4dd4",
   "metadata": {},
   "outputs": [
    {
     "name": "stdout",
     "output_type": "stream",
     "text": [
      "CPU times: user 2.02 s, sys: 350 ms, total: 2.37 s\n",
      "Wall time: 624 ms\n"
     ]
    }
   ],
   "source": [
    "%%time\n",
    "(xt,t),eps = b = next(iter(dl))"
   ]
  },
  {
   "cell_type": "code",
   "execution_count": 23,
   "id": "09b7d225-cbb7-4f97-8e7f-41b63081e971",
   "metadata": {},
   "outputs": [
    {
     "data": {
      "text/plain": [
       "(tensor(-0.0984), tensor(0.7335))"
      ]
     },
     "execution_count": 23,
     "metadata": {},
     "output_type": "execute_result"
    }
   ],
   "source": [
    "torch.mean(xt), torch.std(xt)"
   ]
  },
  {
   "cell_type": "code",
   "execution_count": 24,
   "id": "ddd1345a-d01e-4fba-bc52-97bff8171c23",
   "metadata": {},
   "outputs": [
    {
     "data": {
      "text/plain": [
       "(tensor(-0.0993), tensor(0.7348))"
      ]
     },
     "execution_count": 24,
     "metadata": {},
     "output_type": "execute_result"
    }
   ],
   "source": [
    "torch.mean(xt_ori), torch.std(xt_ori)"
   ]
  }
 ],
 "metadata": {
  "kernelspec": {
   "display_name": "fast.ai",
   "language": "python",
   "name": "fastai"
  },
  "language_info": {
   "codemirror_mode": {
    "name": "ipython",
    "version": 3
   },
   "file_extension": ".py",
   "mimetype": "text/x-python",
   "name": "python",
   "nbconvert_exporter": "python",
   "pygments_lexer": "ipython3",
   "version": "3.10.14"
  }
 },
 "nbformat": 4,
 "nbformat_minor": 5
}

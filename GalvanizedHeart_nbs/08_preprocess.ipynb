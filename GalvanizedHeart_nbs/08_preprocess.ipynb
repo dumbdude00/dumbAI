{
 "cells": [
  {
   "cell_type": "code",
   "execution_count": 11,
   "metadata": {},
   "outputs": [],
   "source": [
    "import os\n",
    "from pathlib import Path\n",
    "from PIL import Image\n",
    "import time\n",
    "\n",
    "from miniai.imports import *\n",
    "from miniai.datasets import *\n",
    "from miniai.diffusion import *\n",
    "\n",
    "from diffusers import AutoencoderKL"
   ]
  },
  {
   "cell_type": "code",
   "execution_count": 12,
   "metadata": {},
   "outputs": [],
   "source": [
    "# Get tiny imagenet from HF\n",
    "xl,yl = 'image','label'\n",
    "name = \"zh-plus/tiny-imagenet\"\n",
    "dsd = load_dataset(name)"
   ]
  },
  {
   "cell_type": "markdown",
   "metadata": {},
   "source": [
    "## Save Images from Tiny ImageNet into directory"
   ]
  },
  {
   "cell_type": "code",
   "execution_count": 18,
   "metadata": {},
   "outputs": [
    {
     "name": "stdout",
     "output_type": "stream",
     "text": [
      "Saved train images 0 to 999\n",
      "Saved train images 1000 to 1999\n",
      "Saved train images 2000 to 2999\n",
      "Saved train images 3000 to 3999\n",
      "Saved train images 4000 to 4999\n",
      "Saved train images 5000 to 5999\n",
      "Saved train images 6000 to 6999\n",
      "Saved train images 7000 to 7999\n",
      "Saved train images 8000 to 8999\n",
      "Saved train images 9000 to 9999\n",
      "Saved train images 10000 to 10999\n",
      "Saved train images 11000 to 11999\n",
      "Saved train images 12000 to 12999\n",
      "Saved train images 13000 to 13999\n",
      "Saved train images 14000 to 14999\n",
      "Saved train images 15000 to 15999\n",
      "Saved train images 16000 to 16999\n",
      "Saved train images 17000 to 17999\n",
      "Saved train images 18000 to 18999\n",
      "Saved train images 19000 to 19999\n",
      "Saved train images 20000 to 20999\n",
      "Saved train images 21000 to 21999\n",
      "Saved train images 22000 to 22999\n",
      "Saved train images 23000 to 23999\n",
      "Saved train images 24000 to 24999\n",
      "Saved train images 25000 to 25999\n",
      "Saved train images 26000 to 26999\n",
      "Saved train images 27000 to 27999\n",
      "Saved train images 28000 to 28999\n",
      "Saved train images 29000 to 29999\n",
      "Saved train images 30000 to 30999\n",
      "Saved train images 31000 to 31999\n",
      "Saved train images 32000 to 32999\n",
      "Saved train images 33000 to 33999\n",
      "Saved train images 34000 to 34999\n",
      "Saved train images 35000 to 35999\n",
      "Saved train images 36000 to 36999\n",
      "Saved train images 37000 to 37999\n",
      "Saved train images 38000 to 38999\n",
      "Saved train images 39000 to 39999\n",
      "Saved train images 40000 to 40999\n",
      "Saved train images 41000 to 41999\n",
      "Saved train images 42000 to 42999\n",
      "Saved train images 43000 to 43999\n",
      "Saved train images 44000 to 44999\n",
      "Saved train images 45000 to 45999\n",
      "Saved train images 46000 to 46999\n",
      "Saved train images 47000 to 47999\n",
      "Saved train images 48000 to 48999\n",
      "Saved train images 49000 to 49999\n",
      "Saved train images 50000 to 50999\n",
      "Saved train images 51000 to 51999\n",
      "Saved train images 52000 to 52999\n",
      "Saved train images 53000 to 53999\n",
      "Saved train images 54000 to 54999\n",
      "Saved train images 55000 to 55999\n",
      "Saved train images 56000 to 56999\n",
      "Saved train images 57000 to 57999\n",
      "Saved train images 58000 to 58999\n",
      "Saved train images 59000 to 59999\n",
      "Saved train images 60000 to 60999\n",
      "Saved train images 61000 to 61999\n",
      "Saved train images 62000 to 62999\n",
      "Saved train images 63000 to 63999\n",
      "Saved train images 64000 to 64999\n",
      "Saved train images 65000 to 65999\n",
      "Saved train images 66000 to 66999\n",
      "Saved train images 67000 to 67999\n",
      "Saved train images 68000 to 68999\n",
      "Saved train images 69000 to 69999\n",
      "Saved train images 70000 to 70999\n",
      "Saved train images 71000 to 71999\n",
      "Saved train images 72000 to 72999\n",
      "Saved train images 73000 to 73999\n",
      "Saved train images 74000 to 74999\n",
      "Saved train images 75000 to 75999\n",
      "Saved train images 76000 to 76999\n",
      "Saved train images 77000 to 77999\n",
      "Saved train images 78000 to 78999\n",
      "Saved train images 79000 to 79999\n",
      "Saved train images 80000 to 80999\n",
      "Saved train images 81000 to 81999\n",
      "Saved train images 82000 to 82999\n",
      "Saved train images 83000 to 83999\n",
      "Saved train images 84000 to 84999\n",
      "Saved train images 85000 to 85999\n",
      "Saved train images 86000 to 86999\n",
      "Saved train images 87000 to 87999\n",
      "Saved train images 88000 to 88999\n",
      "Saved train images 89000 to 89999\n",
      "Saved train images 90000 to 90999\n",
      "Saved train images 91000 to 91999\n",
      "Saved train images 92000 to 92999\n",
      "Saved train images 93000 to 93999\n",
      "Saved train images 94000 to 94999\n",
      "Saved train images 95000 to 95999\n",
      "Saved train images 96000 to 96999\n",
      "Saved train images 97000 to 97999\n",
      "Saved train images 98000 to 98999\n",
      "Saved train images 99000 to 99999\n",
      "Saved valid images 0 to 999\n",
      "Saved valid images 1000 to 1999\n",
      "Saved valid images 2000 to 2999\n",
      "Saved valid images 3000 to 3999\n",
      "Saved valid images 4000 to 4999\n",
      "Saved valid images 5000 to 5999\n",
      "Saved valid images 6000 to 6999\n",
      "Saved valid images 7000 to 7999\n",
      "Saved valid images 8000 to 8999\n",
      "Saved valid images 9000 to 9999\n",
      "Total time: 1477.92 seconds\n"
     ]
    }
   ],
   "source": [
    "# Set the output directory\n",
    "path_data = Path(\"tiny_imgnet\")\n",
    "path_data.mkdir(exist_ok=True)\n",
    "\n",
    "start_time = time.time()\n",
    "\n",
    "for split, ds in dsd.items():\n",
    "    split_dir = path_data / split\n",
    "    split_dir.mkdir(exist_ok=True)\n",
    "\n",
    "    # Save the images in batches\n",
    "    batch_size = 1000\n",
    "    for i in range(0, ds.num_rows, batch_size):\n",
    "        images = [img for img in ds[\"image\"][i:i+batch_size]]\n",
    "        for j, image in enumerate(images):\n",
    "            image_path = split_dir/f\"{i+j}.jpg\"\n",
    "            image.save(image_path)\n",
    "        print(f\"Saved {split} images {i} to {i+batch_size-1}\")\n",
    "\n",
    "elapsed_time = time.time() - start_time\n",
    "print(f\"Total time: {elapsed_time:.2f} seconds\")"
   ]
  },
  {
   "cell_type": "markdown",
   "metadata": {},
   "source": [
    "## Save images as tensors"
   ]
  },
  {
   "cell_type": "code",
   "execution_count": null,
   "metadata": {},
   "outputs": [],
   "source": [
    "dataset = next(os.walk(path_data))[1]\n",
    "chan_3 = torch.ones(3,1,1)"
   ]
  },
  {
   "cell_type": "code",
   "execution_count": 53,
   "metadata": {},
   "outputs": [],
   "source": [
    "def process_images(img_dir, ten_dir):\n",
    "    for file in os.listdir(img_dir):\n",
    "\n",
    "        # Load image\n",
    "        img_path = os.path.join(img_dir, file)\n",
    "        img = Image.open(img_path).convert('RGB')\n",
    "        try:\n",
    "            # Convert image to tensor\n",
    "            tensor = chan_3*TF.to_tensor(img)\n",
    "        except Exception as e:\n",
    "            raise e\n",
    "    \n",
    "        # Save tensor\n",
    "        ten_filen = os.path.splitext(file)[0] + '.pt'\n",
    "        ten_path = os.path.join(ten_dir, ten_filen)\n",
    "        torch.save(tensor, ten_path)"
   ]
  },
  {
   "cell_type": "code",
   "execution_count": 55,
   "metadata": {},
   "outputs": [
    {
     "name": "stdout",
     "output_type": "stream",
     "text": [
      "Completed valid in 9.072174072265625 seconds\n",
      "Completed train in 131.69016885757446 seconds\n",
      "Total time: 131.69 seconds\n"
     ]
    }
   ],
   "source": [
    "first_time = time.time()\n",
    "\n",
    "for set in dataset:\n",
    "    img_dir = path_data/set/\"images\"\n",
    "    ten_dir = path_data/set/\"tensors\"\n",
    "    os.makedirs(ten_dir, exist_ok=True)\n",
    "    process_images(img_dir, ten_dir)\n",
    "    print(f\"Completed {set} in {time.time()-first_time} seconds\")\n",
    "    \n",
    "total_time = time.time() - first_time\n",
    "print(f\"Total time: {total_time:.2f} seconds\")"
   ]
  },
  {
   "cell_type": "code",
   "execution_count": 63,
   "metadata": {},
   "outputs": [
    {
     "data": {
      "image/png": "[encoded data removed]",
      "text/plain": [
       "<Figure size 600x300 with 2 Axes>"
      ]
     },
     "metadata": {},
     "output_type": "display_data"
    }
   ],
   "source": [
    "a = path_data/\"valid/tensors/3750.pt\"\n",
    "b = path_data/\"valid/images/3750.jpg\"\n",
    "\n",
    "img = Image.open(b).convert('RGB')\n",
    "ten = torch.load(a)\n",
    "\n",
    "show_images((img, ten))"
   ]
  },
  {
   "cell_type": "markdown",
   "metadata": {},
   "source": [
    "## Save image features from CLIP model"
   ]
  },
  {
   "cell_type": "code",
   "execution_count": 64,
   "metadata": {},
   "outputs": [],
   "source": [
    "from transformers import CLIPProcessor, CLIPModel"
   ]
  },
  {
   "cell_type": "code",
   "execution_count": 67,
   "metadata": {},
   "outputs": [],
   "source": [
    "processor = CLIPProcessor.from_pretrained(\"openai/clip-vit-large-patch14\", torch_dtype=torch.float16)\n",
    "model = CLIPModel.from_pretrained(\"openai/clip-vit-large-patch14\", torch_dtype=torch.float16).to(\"cuda\")"
   ]
  },
  {
   "cell_type": "code",
   "execution_count": null,
   "metadata": {},
   "outputs": [],
   "source": [
    "\n",
    "inputs = processor(images=b[xl], return_tensors=\"pt\", padding=True, do_rescale=False).to(\"cuda\")\n",
    "image_input = inputs[\"pixel_values\"]\n",
    "with torch.no_grad():\n",
    "    image_features = model.get_image_features(image_input)"
   ]
  },
  {
   "cell_type": "code",
   "execution_count": 82,
   "metadata": {},
   "outputs": [
    {
     "name": "stdout",
     "output_type": "stream",
     "text": [
      "tiny_imgnet/valid/tensors/3465.pt\n"
     ]
    }
   ],
   "source": [
    "a = next(os.walk(path_data/\"valid/tensors\"))[2]\n",
    "b = len(a)\n",
    "ten_dir = path_data/\"valid/tensors\"\n",
    "number = 3465\n",
    "print(ten_dir/f\"{number}.pt\")\n",
    "\n"
   ]
  },
  {
   "cell_type": "code",
   "execution_count": null,
   "metadata": {},
   "outputs": [],
   "source": [
    "def tensor_batch(ten_dir, start_int, batch_size):\n",
    "    ten_list = list()\n",
    "\n",
    "    for i in range(start_int, batch_size):\n",
    "        # Load tensor\n",
    "        ten_path = os.path.join(ten_dir, i)\n",
    "        print(ten_path/f\"{i}.pt\")\n",
    "        ten = torch.load(ten_path+\".pt\")\n",
    "\n",
    "        # Append tensor to list\n",
    "        ten_list.append(ten)\n",
    "\n",
    "    # Stack list into a batch tensor\n",
    "    return torch.stack(ten_list, dim=0)\n",
    "        \n",
    "\n",
    "\n",
    "def process_image_feats(ten_dir, feat_dir, batch_size=1000):\n",
    "        num_tens = next(os.walk(ten_dir))[2]\n",
    "        num_tens = len(num_tens)\n",
    "        for i in range(0, num_tens, batch_size):\n",
    "            batch_tensor = tensor_batch(ten_dir, i, batch_size)\n",
    "            try:\n",
    "                # Convert tensor batch to image features\n",
    "                inputs = processor(images=batch_tensor, return_tensors=\"pt\", padding=True, do_rescale=False)\n",
    "                image_input = inputs[\"pixel_values\"].to(\"cuda\")\n",
    "                with torch.no_grad():\n",
    "                    image_features = model.get_image_features(image_input)\n",
    "            except Exception as e:\n",
    "                raise e\n",
    "            \n",
    "    \n",
    "        # Save tensor\n",
    "        ten_filen = os.path.splitext(file)[0] + '.pt'\n",
    "        ten_path = os.path.join(ten_dir, ten_filen)\n",
    "        torch.save(tensor, ten_path)"
   ]
  },
  {
   "cell_type": "code",
   "execution_count": null,
   "metadata": {},
   "outputs": [],
   "source": [
    "first_time = time.time()\n",
    "\n",
    "for set in dataset:\n",
    "    ten_dir = path_data/set/\"tensors\"\n",
    "    feat_dir = path_data/set/\"image_features\"\n",
    "    os.makedirs(feat_dir, exist_ok=True)\n",
    "    process_image_feats(ten_dir, feat_dir)\n",
    "    print(f\"Completed {set} in {time.time()-first_time} seconds\")\n",
    "    \n",
    "total_time = time.time() - first_time\n",
    "print(f\"Total time: {total_time:.2f} seconds\")"
   ]
  }
 ],
 "metadata": {
  "kernelspec": {
   "display_name": "Python 3",
   "language": "python",
   "name": "python3"
  },
  "language_info": {
   "codemirror_mode": {
    "name": "ipython",
    "version": 3
   },
   "file_extension": ".py",
   "mimetype": "text/x-python",
   "name": "python",
   "nbconvert_exporter": "python",
   "pygments_lexer": "ipython3",
   "version": "3.10.12"
  }
 },
 "nbformat": 4,
 "nbformat_minor": 2
}
